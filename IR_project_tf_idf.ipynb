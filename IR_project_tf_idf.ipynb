{
  "nbformat": 4,
  "nbformat_minor": 0,
  "metadata": {
    "colab": {
      "name": "tf-idf.ipynb",
      "provenance": [],
      "collapsed_sections": []
    },
    "kernelspec": {
      "name": "python3",
      "display_name": "Python 3"
    }
  },
  "cells": [
    {
      "cell_type": "markdown",
      "metadata": {
        "id": "b8OTlFJOuswK",
        "colab_type": "text"
      },
      "source": [
        "**TF-IDF BASED COSINE SIMILARITY**"
      ]
    },
    {
      "cell_type": "code",
      "metadata": {
        "id": "_Z7JHBfMQJPv",
        "colab_type": "code",
        "colab": {}
      },
      "source": [
        "import nltk\n",
        "import pandas as pd\n",
        "from sklearn.metrics import confusion_matrix\n",
        "import string \n",
        "from sklearn.metrics import accuracy_score\n",
        "from nltk.corpus import stopwords\n",
        "from nltk.stem import PorterStemmer \n",
        "ps=PorterStemmer()\n",
        "from collections import defaultdict\n",
        "from nltk.stem import WordNetLemmatizer\n",
        "wordnet_lemmatizer = WordNetLemmatizer()\n",
        "import math\n",
        "import matplotlib.pyplot as plt\n",
        "ps=PorterStemmer()"
      ],
      "execution_count": 0,
      "outputs": []
    },
    {
      "cell_type": "markdown",
      "metadata": {
        "id": "jsche3w_uuHc",
        "colab_type": "text"
      },
      "source": [
        "Reading the train-test data"
      ]
    },
    {
      "cell_type": "code",
      "metadata": {
        "id": "CuB57GYYQKW-",
        "colab_type": "code",
        "colab": {}
      },
      "source": [
        "traindata = pd.read_csv('/content/drive/My Drive/train.csv')\n",
        "testdata = pd.read_csv('/content/drive/My Drive/test.csv')\n",
        "real = defaultdict(list)\n",
        "not_real = defaultdict(list)"
      ],
      "execution_count": 0,
      "outputs": []
    },
    {
      "cell_type": "markdown",
      "metadata": {
        "id": "zVsKtHGTuvBC",
        "colab_type": "text"
      },
      "source": [
        "Function to calculate dot product"
      ]
    },
    {
      "cell_type": "code",
      "metadata": {
        "id": "ha5LLKZuQKaL",
        "colab_type": "code",
        "colab": {}
      },
      "source": [
        "def dot(K,L):\n",
        "        if len(K)==len(L) and len(K)!=0:\n",
        "            return sum([K[n]*L[n] for n in range(len(K))])\n",
        "        else:\n",
        "            return 0"
      ],
      "execution_count": 0,
      "outputs": []
    },
    {
      "cell_type": "code",
      "metadata": {
        "id": "k237m903QKdm",
        "colab_type": "code",
        "outputId": "88910798-bf23-43bd-8d73-e1cd1d161f28",
        "colab": {
          "base_uri": "https://localhost:8080/",
          "height": 52
        }
      },
      "source": [
        "print('Training Set Shape = {}'.format(traindata.shape))\n",
        "\n",
        "print('Test Set Shape = {}'.format(testdata.shape))"
      ],
      "execution_count": 0,
      "outputs": [
        {
          "output_type": "stream",
          "text": [
            "Training Set Shape = (7613, 5)\n",
            "Test Set Shape = (3263, 4)\n"
          ],
          "name": "stdout"
        }
      ]
    },
    {
      "cell_type": "code",
      "metadata": {
        "id": "qN98UxA9QaCa",
        "colab_type": "code",
        "outputId": "26fbfadd-035e-451e-905b-24071d02cfdd",
        "colab": {
          "base_uri": "https://localhost:8080/",
          "height": 265
        }
      },
      "source": [
        "Realdata = traindata[traindata['target'] == 1].shape[0]\n",
        "fakedata = traindata[traindata['target'] == 0].shape[0]\n",
        "plt.bar(1,Realdata,1, label=\"Real-tweet\", color='blue')\n",
        "plt.bar(2,fakedata,1, label=\"Fake-tweet\", color='black')\n",
        "plt.legend()\n",
        "plt.ylabel('Number of Samples')\n",
        "plt.show()"
      ],
      "execution_count": 0,
      "outputs": [
        {
          "output_type": "display_data",
          "data": {
            "image/png": "[encoded data removed]",
            "text/plain": [
              "<Figure size 432x288 with 1 Axes>"
            ]
          },
          "metadata": {
            "tags": [],
            "needs_background": "light"
          }
        }
      ]
    },
    {
      "cell_type": "markdown",
      "metadata": {
        "id": "uY0nmkzNuyUc",
        "colab_type": "text"
      },
      "source": [
        "Calculating tf-idf for cosine similarity"
      ]
    },
    {
      "cell_type": "code",
      "metadata": {
        "id": "tmnYD6zrQaHs",
        "colab_type": "code",
        "outputId": "48bc9974-69e8-47c1-8bc0-688edd66061e",
        "colab": {
          "base_uri": "https://localhost:8080/",
          "height": 122
        }
      },
      "source": [
        "import nltk\n",
        "nltk.download('punkt')\n",
        "nltk.download('stopwords')\n",
        "nltk.download('wordnet')\n",
        "for i in range(5000):\n",
        "    tokens = nltk.word_tokenize(traindata['text'][i])\n",
        "    tokens = [w.lower() for w in tokens]\n",
        "    table = str.maketrans('', '', string.punctuation)\n",
        "    stripped = [w.translate(table) for w in tokens]\n",
        "    words = [word for word in stripped if word.isalpha()]\n",
        "    stop_words = set(stopwords.words('english'))\n",
        "    words = [w for w in words if not w in stop_words]\n",
        "    lmt = [wordnet_lemmatizer.lemmatize(word) for word in words]\n",
        "    lm = [ps.stem(word) for word in lmt]\n",
        "    for l in lm:\n",
        "        if(traindata['target'][i] == 1):\n",
        "            value = real.get(l,\"Empty\")\n",
        "            if(value == \"Empty\"):\n",
        "                real[l].append(1)\n",
        "            else:\n",
        "                v = value[0]+1\n",
        "                real[l].pop()\n",
        "                real[l].append(v)\n",
        "        else:\n",
        "            value = not_real.get(l,\"Empty\")\n",
        "            if(value == \"Empty\"):\n",
        "                not_real[l].append(1)\n",
        "            else:\n",
        "                v = value[0]+1\n",
        "                not_real[l].pop()\n",
        "                not_real[l].append(v)"
      ],
      "execution_count": 0,
      "outputs": [
        {
          "output_type": "stream",
          "text": [
            "[nltk_data] Downloading package punkt to /root/nltk_data...\n",
            "[nltk_data]   Unzipping tokenizers/punkt.zip.\n",
            "[nltk_data] Downloading package stopwords to /root/nltk_data...\n",
            "[nltk_data]   Unzipping corpora/stopwords.zip.\n",
            "[nltk_data] Downloading package wordnet to /root/nltk_data...\n",
            "[nltk_data]   Unzipping corpora/wordnet.zip.\n"
          ],
          "name": "stdout"
        }
      ]
    },
    {
      "cell_type": "markdown",
      "metadata": {
        "id": "jSomAOPPuz0k",
        "colab_type": "text"
      },
      "source": [
        "Calculating cosine similarity forr test data and assigning label according to similarity"
      ]
    },
    {
      "cell_type": "code",
      "metadata": {
        "id": "u8DRAJNOQaKg",
        "colab_type": "code",
        "colab": {}
      },
      "source": [
        "calc_target=[]\n",
        "actual_target=[]\n",
        "for i in range(5001,len(traindata['target'])):\n",
        "   \n",
        "    text_vector=[]\n",
        "    real_vector=[]\n",
        "    not_real_vector=[]\n",
        "    done = []\n",
        "    r_v=0\n",
        "    n_v=0\n",
        "    t_v=0\n",
        "    tokens = nltk.word_tokenize(traindata['text'][i])\n",
        "    tokens = [w.lower() for w in tokens]\n",
        "    table = str.maketrans('', '', string.punctuation)\n",
        "    stripped = [w.translate(table) for w in tokens]\n",
        "    words = [word for word in stripped if word.isalpha()]\n",
        "    stop_words = set(stopwords.words('english'))\n",
        "    words = [w for w in words if not w in stop_words]\n",
        "    lmt = [wordnet_lemmatizer.lemmatize(word) for word in words]\n",
        "    lm = [ps.stem(word) for word in lmt]\n",
        "    for j in lm:\n",
        "        if j not in done:\n",
        "            temp = 1+math.log10(lm.count(j))\n",
        "            t_v=t_v+(temp**2)\n",
        "            text_vector.append(temp)\n",
        "            done.append(j)\n",
        "            value = real.get(j,\"Empty\")\n",
        "            if value == \"Empty\":\n",
        "                real_vector.append(0)\n",
        "            else:\n",
        "                v = value[0]\n",
        "                v = 1+math.log10(v)\n",
        "                r_v = r_v+(v**2)\n",
        "                real_vector.append(v)\n",
        "            value1 = not_real.get(j,\"Empty\")\n",
        "            if(value1 == \"Empty\"):\n",
        "                not_real_vector.append(0)\n",
        "            else:\n",
        "                v1= value1[0]\n",
        "                v1 = 1+math.log10(v1)\n",
        "                n_v = n_v+(v1**2)\n",
        "                not_real_vector.append(v1)\n",
        "   # print(n_v,\"...........\",r_v,\"..........\",t_v)\n",
        "    if n_v == 0 and r_v==0:\n",
        "        continue\n",
        "    else:\n",
        "        actual_target.append(traindata['target'][i])\n",
        "        if n_v ==0:\n",
        "            calc_target.append(1)\n",
        "        elif r_v ==0:\n",
        "            calc_target.append(0)\n",
        "        else:\n",
        "            n_v = math.sqrt(n_v)\n",
        "            r_v = math.sqrt(r_v)\n",
        "            t_v = math.sqrt(t_v)\n",
        "            d = dot(real_vector,text_vector)\n",
        "            sim_real = d/(r_v*t_v)\n",
        "            d1 = dot(not_real_vector,text_vector)\n",
        "            sim_not_real = d1/(n_v*t_v)\n",
        "            if(sim_real>sim_not_real):\n",
        "                calc_target.append(1)\n",
        "            else:\n",
        "                calc_target.append(0)"
      ],
      "execution_count": 0,
      "outputs": []
    },
    {
      "cell_type": "markdown",
      "metadata": {
        "id": "ckiIV9ALu1Bs",
        "colab_type": "text"
      },
      "source": [
        ""
      ]
    },
    {
      "cell_type": "code",
      "metadata": {
        "id": "PZWzkLN1QaN4",
        "colab_type": "code",
        "outputId": "f4872d36-3dbf-4fa8-ab6f-767696f15965",
        "colab": {
          "base_uri": "https://localhost:8080/",
          "height": 70
        }
      },
      "source": [
        "print(\"Accuracy of TF-IDF model is : \",accuracy_score(actual_target,calc_target))\n",
        "print(confusion_matrix(actual_target,calc_target))"
      ],
      "execution_count": 0,
      "outputs": [
        {
          "output_type": "stream",
          "text": [
            "Accuracy of TF-IDF model is :  0.6990403071017275\n",
            "[[967 463]\n",
            " [321 854]]\n"
          ],
          "name": "stdout"
        }
      ]
    }
  ]
}