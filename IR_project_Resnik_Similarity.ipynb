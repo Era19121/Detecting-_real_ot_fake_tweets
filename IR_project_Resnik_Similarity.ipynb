{
  "nbformat": 4,
  "nbformat_minor": 0,
  "metadata": {
    "colab": {
      "name": "Resnik_Similarity.ipynb",
      "provenance": []
    },
    "kernelspec": {
      "name": "python3",
      "display_name": "Python 3"
    }
  },
  "cells": [
    {
      "cell_type": "markdown",
      "metadata": {
        "id": "SUaTGGsQuEOh",
        "colab_type": "text"
      },
      "source": [
        "**RESNIK-SIMILARITY**"
      ]
    },
    {
      "cell_type": "code",
      "metadata": {
        "id": "n4u44ziGTKus",
        "colab_type": "code",
        "outputId": "3982f053-1adb-4759-86a2-05d14d8bd31a",
        "colab": {
          "base_uri": "https://localhost:8080/",
          "height": 175
        }
      },
      "source": [
        "import string\n",
        "nltk.download('wordnet_ic')\n",
        "from nltk.corpus import wordnet as wn\n",
        "import pandas as pd\n",
        "import numpy as np\n",
        "from nltk.corpus import stopwords\n",
        "from sklearn.metrics import accuracy_score\n",
        "from sklearn.metrics import f1_score\n",
        "from sklearn.metrics import confusion_matrix\n",
        "from nltk.stem import PorterStemmer\n",
        "from nltk.stem import WordNetLemmatizer\n",
        "wordnet_lemmatizer = WordNetLemmatizer()\n",
        "from nltk.corpus import wordnet_ic\n",
        "brown_ic = wordnet_ic.ic('ic-brown.dat')\n",
        "ps=PorterStemmer()\n",
        "table = str.maketrans('', '', string.punctuation)\n",
        "import nltk\n",
        "nltk.download('punkt')\n",
        "nltk.download('stopwords')\n",
        "nltk.download('wordnet')"
      ],
      "execution_count": 0,
      "outputs": [
        {
          "output_type": "stream",
          "text": [
            "[nltk_data] Downloading package wordnet_ic to /root/nltk_data...\n",
            "[nltk_data]   Package wordnet_ic is already up-to-date!\n",
            "[nltk_data] Downloading package punkt to /root/nltk_data...\n",
            "[nltk_data]   Unzipping tokenizers/punkt.zip.\n",
            "[nltk_data] Downloading package stopwords to /root/nltk_data...\n",
            "[nltk_data]   Unzipping corpora/stopwords.zip.\n",
            "[nltk_data] Downloading package wordnet to /root/nltk_data...\n",
            "[nltk_data]   Unzipping corpora/wordnet.zip.\n"
          ],
          "name": "stdout"
        },
        {
          "output_type": "execute_result",
          "data": {
            "text/plain": [
              "True"
            ]
          },
          "metadata": {
            "tags": []
          },
          "execution_count": 5
        }
      ]
    },
    {
      "cell_type": "markdown",
      "metadata": {
        "id": "PRqdgYpcuNme",
        "colab_type": "text"
      },
      "source": [
        "Reading the train and test data"
      ]
    },
    {
      "cell_type": "code",
      "metadata": {
        "id": "HTbCs13ETWzo",
        "colab_type": "code",
        "colab": {}
      },
      "source": [
        "data = pd.read_csv('/content/drive/My Drive/train.csv')\n",
        "testdata = pd.read_csv('/content/drive/My Drive/test.csv')\n",
        "real_word=[]\n",
        "nonreal_word=[]"
      ],
      "execution_count": 0,
      "outputs": []
    },
    {
      "cell_type": "markdown",
      "metadata": {
        "id": "6rp9MzKXuUKp",
        "colab_type": "text"
      },
      "source": [
        "Making the real and non-real word set from train data"
      ]
    },
    {
      "cell_type": "code",
      "metadata": {
        "id": "8eNjYk1DTmkM",
        "colab_type": "code",
        "colab": {}
      },
      "source": [
        "for i in range(5000):\n",
        "    if data['target'][i]==0:\n",
        "        tokens = nltk.word_tokenize(data['text'][i])\n",
        "        tokens = [w.lower() for w in tokens]\n",
        "        table = str.maketrans('', '', string.punctuation)\n",
        "        stripped = [w.translate(table) for w in tokens]\n",
        "        words = [word for word in stripped if word.isalpha()]\n",
        "        stop_words = set(stopwords.words('english'))\n",
        "        words = [w for w in words if not w in stop_words]\n",
        "        lmt = [wordnet_lemmatizer.lemmatize(word) for word in words]\n",
        "        lm = [ps.stem(word) for word in lmt]\n",
        "        for l in lm:\n",
        "            if l not in nonreal_word:\n",
        "                if wn.synsets(l,pos='n'):\n",
        "                    nonreal_word.append(l)\n",
        "    else:\n",
        "        tokens = nltk.word_tokenize(data['text'][i])\n",
        "        tokens = [w.lower() for w in tokens]\n",
        "        table = str.maketrans('', '', string.punctuation)\n",
        "        stripped = [w.translate(table) for w in tokens]\n",
        "        words = [word for word in stripped if word.isalpha()]\n",
        "        stop_words = set(stopwords.words('english'))\n",
        "        words = [w for w in words if not w in stop_words]\n",
        "        lmt = [wordnet_lemmatizer.lemmatize(word) for word in words]\n",
        "        lm = [ps.stem(word) for word in lmt]\n",
        "        for l in lm:\n",
        "            if l not in real_word:\n",
        "                if wn.synsets(l,pos='n'):\n",
        "                    real_word.append(l)"
      ],
      "execution_count": 0,
      "outputs": []
    },
    {
      "cell_type": "markdown",
      "metadata": {
        "id": "XFiQqMXcuWNG",
        "colab_type": "text"
      },
      "source": [
        "Finding the label for each text according to its similarity with real and non-real word set"
      ]
    },
    {
      "cell_type": "code",
      "metadata": {
        "id": "aAw5R-TXT5Ty",
        "colab_type": "code",
        "colab": {}
      },
      "source": [
        "original =[]\n",
        "computed=[]\n",
        "\n",
        "for lk in range(5001,len(data['target'])):\n",
        "    word=[]\n",
        "    tokens = nltk.word_tokenize(data['text'][lk])\n",
        "    tokens = [w.lower() for w in tokens]\n",
        "    table = str.maketrans('', '', string.punctuation)\n",
        "    stripped = [w.translate(table) for w in tokens]\n",
        "    words = [word for word in stripped if word.isalpha()]\n",
        "    stop_words = set(stopwords.words('english'))\n",
        "    words = [w for w in words if not w in stop_words]\n",
        "    lmt = [wordnet_lemmatizer.lemmatize(word) for word in words]\n",
        "    lm = [ps.stem(word) for word in lmt]\n",
        "    simi1=[]\n",
        "    simi2=[]\n",
        "    for l in lm:\n",
        "        if l not in word:\n",
        "            if wn.synsets(l,pos='n'):\n",
        "                word.append(l)\n",
        "   \n",
        "    if len(word)==0:\n",
        "        continue\n",
        "    for i in word:\n",
        "        try:\n",
        "            s = wn.synset(i+'.n.01')\n",
        "        except:\n",
        "            s = None\n",
        "            continue\n",
        "        for k in real_word:\n",
        "            try:\n",
        "                s2 = wn.synset(k+'.n.01')\n",
        "            except:\n",
        "                s2=None\n",
        "                continue\n",
        "            \n",
        "            sim = s.res_similarity(s2,brown_ic)\n",
        "            simi1.append(sim)\n",
        "  #calculate resnik similarity between the synonym or the sense of each word of text with sense of each real word\n",
        "    for i in real_word:\n",
        "        try:\n",
        "            s = wn.synset(i+'.n.01')\n",
        "        except:\n",
        "            s = None\n",
        "            continue\n",
        "        for k in word:\n",
        "            try:\n",
        "                s2 = wn.synset(k+'.n.01')\n",
        "            except:\n",
        "                s2=None\n",
        "                continue\n",
        "            sim = s.res_similarity(s2,brown_ic)\n",
        "            simi2.append(sim)\n",
        "    #find the average of the similarities of two words which have the maximum similarity\n",
        "    similarity1 = (max(simi1)+max(simi2))/2\n",
        "    simi1=[]\n",
        "    simi2=[]\n",
        "    for i in word:\n",
        "        try:\n",
        "            s = wn.synset(i+'.n.01')\n",
        "        except:\n",
        "            s = None\n",
        "            continue\n",
        "        for k in nonreal_word:\n",
        "            try:\n",
        "                s2 = wn.synset(k+'.n.01')\n",
        "            except:\n",
        "                s2=None\n",
        "                continue\n",
        "            sim = s.res_similarity(s2,brown_ic)\n",
        "            simi1.append(sim)\n",
        "    #calculate resnik similarity between the synonym or the sense of each word of text with sense of each non-real word\n",
        "    for i in nonreal_word:\n",
        "        try:\n",
        "            s = wn.synset(i+'.n.01')\n",
        "        except:\n",
        "            s = None\n",
        "            continue\n",
        "        for k in word:\n",
        "            try:\n",
        "                s2 = wn.synset(k+'.n.01')\n",
        "            except:\n",
        "                s2=None\n",
        "                continue\n",
        "            sim = s.res_similarity(s2,brown_ic)\n",
        "            simi2.append(sim)\n",
        "    #find the average of the similarities of two words which have the maximum similarity\n",
        "    similarity2 = (max(simi1)+max(simi2))/2\n",
        "    # Assigning label which has higher similarity\n",
        "    if(similarity1>similarity2):\n",
        "        original.append(data['target'][lk])\n",
        "        computed.append(1)\n",
        "    else:\n",
        "        original.append(data['target'][lk])\n",
        "        computed.append(0)"
      ],
      "execution_count": 0,
      "outputs": []
    },
    {
      "cell_type": "markdown",
      "metadata": {
        "id": "Xq8Odfh1uZ0I",
        "colab_type": "text"
      },
      "source": [
        "Accuracy of Resnik similarity"
      ]
    },
    {
      "cell_type": "code",
      "metadata": {
        "id": "qICEf4gLTrRI",
        "colab_type": "code",
        "outputId": "bc92fd19-58b6-4dfa-b620-b0649aa711d1",
        "colab": {
          "base_uri": "https://localhost:8080/",
          "height": 70
        }
      },
      "source": [
        "print(\"**********************************************************************\")\n",
        "print(\"Accuracy of Resnik Similarity is as follow:- \")   \n",
        "print(accuracy_score(original,computed))"
      ],
      "execution_count": 0,
      "outputs": [
        {
          "output_type": "stream",
          "text": [
            "**********************************************************************\n",
            "Accuracy of Resnik Similarity is as follow:- \n",
            "0.5538759689922481\n"
          ],
          "name": "stdout"
        }
      ]
    }
  ]
}