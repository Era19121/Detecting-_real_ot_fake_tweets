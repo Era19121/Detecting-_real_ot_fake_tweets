{
  "nbformat": 4,
  "nbformat_minor": 0,
  "metadata": {
    "colab": {
      "name": "Nayes_Bayes.ipynb",
      "provenance": [],
      "collapsed_sections": []
    },
    "kernelspec": {
      "name": "python3",
      "display_name": "Python 3"
    }
  },
  "cells": [
    {
      "cell_type": "markdown",
      "metadata": {
        "id": "0WWN3BzKuj-u",
        "colab_type": "text"
      },
      "source": [
        "**NAIVE-BAYES**"
      ]
    },
    {
      "cell_type": "code",
      "metadata": {
        "id": "uNO997aySXZN",
        "colab_type": "code",
        "outputId": "35b492e0-00af-4f61-e19d-091f4dcf0546",
        "colab": {
          "base_uri": "https://localhost:8080/",
          "height": 140
        }
      },
      "source": [
        "import math\n",
        "import pandas as pd\n",
        "from nltk.stem.porter import PorterStemmer\n",
        "ps = PorterStemmer()\n",
        "from collections import defaultdict\n",
        "from sklearn.metrics import accuracy_score\n",
        "from nltk.stem import WordNetLemmatizer\n",
        "wordnet_lemmatizer = WordNetLemmatizer()\n",
        "from nltk.corpus import stopwords\n",
        "import string\n",
        "import nltk\n",
        "nltk.download('punkt')\n",
        "nltk.download('stopwords')\n",
        "nltk.download('wordnet')"
      ],
      "execution_count": 0,
      "outputs": [
        {
          "output_type": "stream",
          "text": [
            "[nltk_data] Downloading package punkt to /root/nltk_data...\n",
            "[nltk_data]   Unzipping tokenizers/punkt.zip.\n",
            "[nltk_data] Downloading package stopwords to /root/nltk_data...\n",
            "[nltk_data]   Unzipping corpora/stopwords.zip.\n",
            "[nltk_data] Downloading package wordnet to /root/nltk_data...\n",
            "[nltk_data]   Unzipping corpora/wordnet.zip.\n"
          ],
          "name": "stdout"
        },
        {
          "output_type": "execute_result",
          "data": {
            "text/plain": [
              "True"
            ]
          },
          "metadata": {
            "tags": []
          },
          "execution_count": 1
        }
      ]
    },
    {
      "cell_type": "markdown",
      "metadata": {
        "id": "fK6oE_Xbulld",
        "colab_type": "text"
      },
      "source": [
        "Reading train and test data"
      ]
    },
    {
      "cell_type": "code",
      "metadata": {
        "id": "9c6hHqUhSrvu",
        "colab_type": "code",
        "outputId": "5ccdb756-730c-48ef-8300-c62fc2a606f5",
        "colab": {
          "base_uri": "https://localhost:8080/",
          "height": 52
        }
      },
      "source": [
        "traindata = pd.read_csv('/content/drive/My Drive/train.csv')\n",
        "testdata = pd.read_csv('/content/drive/My Drive/test.csv')\n",
        "print(traindata.columns)\n",
        "print(testdata.columns)\n",
        "ids = list(traindata['id'])\n",
        "target_train=list(traindata['target'])\n",
        "#tweet_text1=list(testdata['text'])\n",
        "original = []\n",
        "computed = []\n",
        "vocab=[]\n",
        "real = defaultdict(list)\n",
        "not_real = defaultdict(list)\n",
        "class_dictionary=[real,not_real]\n",
        "real_count=0\n",
        "not_real_count=0\n",
        "class_count=[real_count,not_real_count]\n",
        "orig_class_train = [target_train]\n",
        "ckk = [0]\n",
        "vocab=[]"
      ],
      "execution_count": 0,
      "outputs": [
        {
          "output_type": "stream",
          "text": [
            "Index(['id', 'keyword', 'location', 'text', 'target'], dtype='object')\n",
            "Index(['id', 'keyword', 'location', 'text'], dtype='object')\n"
          ],
          "name": "stdout"
        }
      ]
    },
    {
      "cell_type": "markdown",
      "metadata": {
        "id": "CZ0F1Y6Munwy",
        "colab_type": "text"
      },
      "source": [
        "Function to find the maximum in an array"
      ]
    },
    {
      "cell_type": "code",
      "metadata": {
        "id": "2rbb8yopS1BV",
        "colab_type": "code",
        "colab": {}
      },
      "source": [
        "def find_max(arr):\n",
        "    maxi = arr[0]\n",
        "    for i in range(len(arr)):\n",
        "        if(arr[i]>maxi):\n",
        "            maxi = arr[i]\n",
        "    return(arr.index(maxi))"
      ],
      "execution_count": 0,
      "outputs": []
    },
    {
      "cell_type": "markdown",
      "metadata": {
        "id": "EgOBZDDyupJC",
        "colab_type": "text"
      },
      "source": [
        "Calculate the prior probability"
      ]
    },
    {
      "cell_type": "code",
      "metadata": {
        "id": "MTAA33FrS5Lf",
        "colab_type": "code",
        "colab": {}
      },
      "source": [
        "for i in range(5000):\n",
        "    tokens = nltk.word_tokenize(traindata['text'][i])\n",
        "    tokens = [w.lower() for w in tokens]\n",
        "    table = str.maketrans('', '', string.punctuation)\n",
        "    stripped = [w.translate(table) for w in tokens]\n",
        "    words = [word for word in stripped if word.isalpha()]\n",
        "    stop_words = set(stopwords.words('english'))\n",
        "    words = [w for w in words if not w in stop_words]\n",
        "    lmt = [wordnet_lemmatizer.lemmatize(word) for word in words]\n",
        "    lm = [ps.stem(word) for word in lmt]\n",
        "    if(traindata['target'][i]==1):\n",
        "        real_count=real_count+len(lm)\n",
        "    else:\n",
        "        not_real_count=not_real_count+len(lm)\n",
        "    for l in lm:\n",
        "        if(l not in vocab):\n",
        "            vocab.append(l)\n",
        "        if(traindata['target'][i] == 1):\n",
        "            value = real.get(l,\"Empty\")\n",
        "            if(value == \"Empty\"):\n",
        "                real[l].append(1)\n",
        "            else:\n",
        "                v = value[0]+1\n",
        "                real[l].pop()\n",
        "                real[l].append(v)\n",
        "        else:\n",
        "            value = not_real.get(l,\"Empty\")\n",
        "            if(value == \"Empty\"):\n",
        "                not_real[l].append(1)\n",
        "            else:\n",
        "                v = value[0]+1\n",
        "                not_real[l].pop()\n",
        "                not_real[l].append(v)"
      ],
      "execution_count": 0,
      "outputs": []
    },
    {
      "cell_type": "markdown",
      "metadata": {
        "id": "9HA4JzIIuqfa",
        "colab_type": "text"
      },
      "source": [
        "Predicting label for test data which is obtained after train-test split"
      ]
    },
    {
      "cell_type": "code",
      "metadata": {
        "id": "k00LgPbLS-J-",
        "colab_type": "code",
        "colab": {}
      },
      "source": [
        "for i in range(5001,len(traindata['target'])):\n",
        "    original.append(traindata['target'][i])\n",
        "    tokens = nltk.word_tokenize(traindata['text'][i])\n",
        "    tokens = [w.lower() for w in tokens]\n",
        "    table = str.maketrans('', '', string.punctuation)\n",
        "    stripped = [w.translate(table) for w in tokens]\n",
        "    words = [word for word in stripped if word.isalpha()]\n",
        "    stop_words = set(stopwords.words('english'))\n",
        "    words = [w for w in words if not w in stop_words]\n",
        "    lmt = [wordnet_lemmatizer.lemmatize(word) for word in words]\n",
        "    lm = [ps.stem(word) for word in lmt]\n",
        "    pro = 0\n",
        "    pro1 = 0\n",
        "    for l in lm:\n",
        "        value=real.get(l,\"Empty\")\n",
        "        if(value == \"Empty\"):\n",
        "            v=0\n",
        "        else:\n",
        "            v = value[0]\n",
        "        pro=pro + math.log10((1+v)/(real_count+len(vocab)))\n",
        "        value1 = not_real.get(l,\"Empty\")\n",
        "        if(value1 == \"Empty\"):\n",
        "            v1=0\n",
        "                \n",
        "        else:\n",
        "            v1 = value1[0]\n",
        "        pro1=pro1 + math.log10((1+v1)/(not_real_count+len(vocab)))\n",
        "    if(pro1>pro):\n",
        "        computed.append(0)\n",
        "    else:\n",
        "        computed.append(1)"
      ],
      "execution_count": 0,
      "outputs": []
    },
    {
      "cell_type": "code",
      "metadata": {
        "id": "JiZii_rfTCKF",
        "colab_type": "code",
        "outputId": "151ca850-326a-4159-c232-caa01671ca3c",
        "colab": {
          "base_uri": "https://localhost:8080/",
          "height": 34
        }
      },
      "source": [
        "print(\"Accuracy of Naive-Bayes model is : \",accuracy_score(original,computed))"
      ],
      "execution_count": 0,
      "outputs": [
        {
          "output_type": "stream",
          "text": [
            "Accuracy of Naive-Bayes model is :  0.7281776416539051\n"
          ],
          "name": "stdout"
        }
      ]
    }
  ]
}